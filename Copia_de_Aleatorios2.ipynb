{
  "nbformat": 4,
  "nbformat_minor": 0,
  "metadata": {
    "colab": {
      "provenance": []
    },
    "kernelspec": {
      "name": "python3",
      "display_name": "Python 3"
    },
    "language_info": {
      "name": "python"
    }
  },
  "cells": [
    {
      "cell_type": "code",
      "execution_count": null,
      "metadata": {
        "id": "84fjPCWcjU9J"
      },
      "outputs": [],
      "source": [
        "import math\n",
        "\n",
        "def distancia(x, y):\n",
        "  return math.sqrt(x**2 + y**2)"
      ]
    },
    {
      "cell_type": "code",
      "source": [
        "cont = 0\n",
        "puntosLado = 10000\n",
        "paso = 1 / (puntosLado - 1)\n",
        "\n",
        "i = 0\n",
        "while i <= 1:\n",
        "  j = 0\n",
        "  while j <= 1:\n",
        "    if distancia(i, j) <= 1:\n",
        "      cont += 1\n",
        "    j+= paso\n",
        "  i += paso\n",
        "\n",
        "print(\"Puntos:\", cont)\n",
        "print(\"Estimación de pi:\", (cont * 4 / (puntosLado**2)))"
      ],
      "metadata": {
        "colab": {
          "base_uri": "https://localhost:8080/"
        },
        "id": "m2kKm4YnkI6O",
        "outputId": "16d59d6d-ef68-4d21-e3d7-ed062e4e1a3a"
      },
      "execution_count": null,
      "outputs": [
        {
          "output_type": "stream",
          "name": "stdout",
          "text": [
            "Puntos: 78534021\n",
            "Estimación de pi: 3.14136084\n"
          ]
        }
      ]
    },
    {
      "cell_type": "code",
      "source": [
        "import numpy as np\n",
        "\n",
        "n = 1000\n",
        "numExperimentos = 100000\n",
        "pi = 0\n",
        "listaValoresPi = []\n",
        "for i in range(numExperimentos):\n",
        "    valor = 0\n",
        "    X = np.random.uniform(0, 1, n).tolist()\n",
        "    Y = np.random.uniform(0, 1, n).tolist()\n",
        "    for j in range(n):\n",
        "        Z = np.sqrt(X[j] * X[j] + Y[j] * Y[j])\n",
        "        #Comprobar que esté en el circulo\n",
        "        if Z <= 1:\n",
        "            valor += 1\n",
        "    valorFlotante = float(valor)\n",
        "    valorPi = valorFlotante * 4 / n\n",
        "    listaValoresPi.append(valorPi)\n",
        "    pi += valorPi\n",
        "\n",
        "    \n",
        "piFinal = pi / numExperimentos\n",
        "print(pi)"
      ],
      "metadata": {
        "id": "v3dPcAXqw4Wa"
      },
      "execution_count": null,
      "outputs": []
    }
  ]
}