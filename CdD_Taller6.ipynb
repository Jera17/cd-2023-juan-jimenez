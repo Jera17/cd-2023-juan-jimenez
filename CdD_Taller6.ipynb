{
  "nbformat": 4,
  "nbformat_minor": 0,
  "metadata": {
    "colab": {
      "provenance": []
    },
    "kernelspec": {
      "name": "python3",
      "display_name": "Python 3"
    },
    "language_info": {
      "name": "python"
    }
  },
  "cells": [
    {
      "cell_type": "code",
      "execution_count": null,
      "metadata": {
        "colab": {
          "base_uri": "https://localhost:8080/"
        },
        "id": "8xh3ryYK_eeR",
        "outputId": "52d0f180-c976-491d-b243-cc2ec8fc60f9"
      },
      "outputs": [
        {
          "output_type": "stream",
          "name": "stdout",
          "text": [
            "Looking in indexes: https://pypi.org/simple, https://us-python.pkg.dev/colab-wheels/public/simple/\n",
            "Requirement already satisfied: matplotlib in /usr/local/lib/python3.9/dist-packages (3.7.1)\n",
            "Requirement already satisfied: numpy in /usr/local/lib/python3.9/dist-packages (1.22.4)\n",
            "Requirement already satisfied: pandas in /usr/local/lib/python3.9/dist-packages (1.4.4)\n",
            "Requirement already satisfied: seaborn in /usr/local/lib/python3.9/dist-packages (0.12.2)\n",
            "Requirement already satisfied: scikit-learn in /usr/local/lib/python3.9/dist-packages (1.2.2)\n",
            "Requirement already satisfied: ipython in /usr/local/lib/python3.9/dist-packages (7.9.0)\n",
            "Requirement already satisfied: pillow>=6.2.0 in /usr/local/lib/python3.9/dist-packages (from matplotlib) (8.4.0)\n",
            "Requirement already satisfied: importlib-resources>=3.2.0 in /usr/local/lib/python3.9/dist-packages (from matplotlib) (5.12.0)\n",
            "Requirement already satisfied: contourpy>=1.0.1 in /usr/local/lib/python3.9/dist-packages (from matplotlib) (1.0.7)\n",
            "Requirement already satisfied: fonttools>=4.22.0 in /usr/local/lib/python3.9/dist-packages (from matplotlib) (4.39.2)\n",
            "Requirement already satisfied: kiwisolver>=1.0.1 in /usr/local/lib/python3.9/dist-packages (from matplotlib) (1.4.4)\n",
            "Requirement already satisfied: cycler>=0.10 in /usr/local/lib/python3.9/dist-packages (from matplotlib) (0.11.0)\n",
            "Requirement already satisfied: packaging>=20.0 in /usr/local/lib/python3.9/dist-packages (from matplotlib) (23.0)\n",
            "Requirement already satisfied: pyparsing>=2.3.1 in /usr/local/lib/python3.9/dist-packages (from matplotlib) (3.0.9)\n",
            "Requirement already satisfied: python-dateutil>=2.7 in /usr/local/lib/python3.9/dist-packages (from matplotlib) (2.8.2)\n",
            "Requirement already satisfied: pytz>=2020.1 in /usr/local/lib/python3.9/dist-packages (from pandas) (2022.7.1)\n",
            "Requirement already satisfied: threadpoolctl>=2.0.0 in /usr/local/lib/python3.9/dist-packages (from scikit-learn) (3.1.0)\n",
            "Requirement already satisfied: scipy>=1.3.2 in /usr/local/lib/python3.9/dist-packages (from scikit-learn) (1.10.1)\n",
            "Requirement already satisfied: joblib>=1.1.1 in /usr/local/lib/python3.9/dist-packages (from scikit-learn) (1.1.1)\n",
            "Requirement already satisfied: setuptools>=18.5 in /usr/local/lib/python3.9/dist-packages (from ipython) (67.6.0)\n",
            "Requirement already satisfied: traitlets>=4.2 in /usr/local/lib/python3.9/dist-packages (from ipython) (5.7.1)\n",
            "Requirement already satisfied: backcall in /usr/local/lib/python3.9/dist-packages (from ipython) (0.2.0)\n",
            "Requirement already satisfied: decorator in /usr/local/lib/python3.9/dist-packages (from ipython) (4.4.2)\n",
            "Requirement already satisfied: pygments in /usr/local/lib/python3.9/dist-packages (from ipython) (2.14.0)\n",
            "Requirement already satisfied: pickleshare in /usr/local/lib/python3.9/dist-packages (from ipython) (0.7.5)\n",
            "Collecting jedi>=0.10\n",
            "  Downloading jedi-0.18.2-py2.py3-none-any.whl (1.6 MB)\n",
            "\u001b[2K     \u001b[90m━━━━━━━━━━━━━━━━━━━━━━━━━━━━━━━━━━━━━━━━\u001b[0m \u001b[32m1.6/1.6 MB\u001b[0m \u001b[31m17.1 MB/s\u001b[0m eta \u001b[36m0:00:00\u001b[0m\n",
            "\u001b[?25hRequirement already satisfied: pexpect in /usr/local/lib/python3.9/dist-packages (from ipython) (4.8.0)\n",
            "Requirement already satisfied: prompt-toolkit<2.1.0,>=2.0.0 in /usr/local/lib/python3.9/dist-packages (from ipython) (2.0.10)\n",
            "Requirement already satisfied: zipp>=3.1.0 in /usr/local/lib/python3.9/dist-packages (from importlib-resources>=3.2.0->matplotlib) (3.15.0)\n",
            "Requirement already satisfied: parso<0.9.0,>=0.8.0 in /usr/local/lib/python3.9/dist-packages (from jedi>=0.10->ipython) (0.8.3)\n",
            "Requirement already satisfied: six>=1.9.0 in /usr/local/lib/python3.9/dist-packages (from prompt-toolkit<2.1.0,>=2.0.0->ipython) (1.16.0)\n",
            "Requirement already satisfied: wcwidth in /usr/local/lib/python3.9/dist-packages (from prompt-toolkit<2.1.0,>=2.0.0->ipython) (0.2.6)\n",
            "Requirement already satisfied: ptyprocess>=0.5 in /usr/local/lib/python3.9/dist-packages (from pexpect->ipython) (0.7.0)\n",
            "Installing collected packages: jedi\n",
            "Successfully installed jedi-0.18.2\n",
            "Looking in indexes: https://pypi.org/simple, https://us-python.pkg.dev/colab-wheels/public/simple/\n",
            "Collecting kneed\n",
            "  Downloading kneed-0.8.2-py3-none-any.whl (10 kB)\n",
            "Requirement already satisfied: numpy>=1.14.2 in /usr/local/lib/python3.9/dist-packages (from kneed) (1.22.4)\n",
            "Requirement already satisfied: scipy>=1.0.0 in /usr/local/lib/python3.9/dist-packages (from kneed) (1.10.1)\n",
            "Installing collected packages: kneed\n",
            "Successfully installed kneed-0.8.2\n"
          ]
        }
      ],
      "source": [
        "!pip install matplotlib numpy pandas seaborn scikit-learn ipython\n",
        "!pip install kneed"
      ]
    },
    {
      "cell_type": "code",
      "source": [
        "import matplotlib.pyplot as plt\n",
        "from kneed import KneeLocator\n",
        "from sklearn.datasets import make_blobs\n",
        "from sklearn.cluster import KMeans\n",
        "from sklearn.metrics import silhouette_score\n",
        "from sklearn.preprocessing import StandardScaler\n",
        "import pandas as pd\n",
        "import numpy as np"
      ],
      "metadata": {
        "id": "dSDqZXVg_lQu"
      },
      "execution_count": null,
      "outputs": []
    },
    {
      "cell_type": "code",
      "source": [
        "ruta = 'https://raw.githubusercontent.com/fmoreno4/cd-files/main/eventos_dengue_2020.csv'\n",
        "df = pd.read_csv(ruta)\n",
        "df"
      ],
      "metadata": {
        "colab": {
          "base_uri": "https://localhost:8080/",
          "height": 592
        },
        "id": "cx5XpE-8_mH1",
        "outputId": "23ebfda3-93c2-4f14-8cb2-d13d167a3dcb"
      },
      "execution_count": null,
      "outputs": [
        {
          "output_type": "execute_result",
          "data": {
            "text/plain": [
              "        ID     fec_not  semana   año  edad_  uni_med_ sexo_  cod_pais_o  \\\n",
              "0        1  17/01/2020       1  2020     25         1     F         170   \n",
              "1        2  10/01/2020       1  2020     24         1     M         170   \n",
              "2        3  12/01/2020       1  2020     58         1     M         170   \n",
              "3        4  12/01/2020       1  2020     29         1     F         170   \n",
              "4        5  10/01/2020       1  2020     56         1     F         170   \n",
              "...    ...         ...     ...   ...    ...       ...   ...         ...   \n",
              "1257  1258   7/03/2020       9  2020     36         1     F         170   \n",
              "1258  1259  13/03/2020       9  2020     42         1     M         170   \n",
              "1259  1260   8/03/2020       9  2020      2         1     M         170   \n",
              "1260  1261  11/03/2020       9  2020     12         1     F         170   \n",
              "1261  1262   9/03/2020       9  2020     14         1     M         170   \n",
              "\n",
              "      cod_dpto_o  cod_mun_o  ...  hipotension  hepatomegalia  \\\n",
              "0             68        276  ...            2              2   \n",
              "1             68        276  ...            2              2   \n",
              "2             68        276  ...            2              2   \n",
              "3             68        276  ...            2              2   \n",
              "4             68        276  ...            2              2   \n",
              "...          ...        ...  ...          ...            ...   \n",
              "1257          68        276  ...            2              2   \n",
              "1258          68        276  ...            2              2   \n",
              "1259          68        276  ...            2              2   \n",
              "1260          68        276  ...            2              2   \n",
              "1261          68        276  ...            2              2   \n",
              "\n",
              "     hemorragia_mucosa hipotermia  caida_plaquetas  acum_liquido  \\\n",
              "0                    2          2                2             2   \n",
              "1                    2          2                2             2   \n",
              "2                    2          2                2             2   \n",
              "3                    2          2                2             2   \n",
              "4                    2          2                1             2   \n",
              "...                ...        ...              ...           ...   \n",
              "1257                 1          2                2             2   \n",
              "1258                 2          2                1             2   \n",
              "1259                 2          2                2             2   \n",
              "1260                 2          2                2             2   \n",
              "1261                 2          2                2             2   \n",
              "\n",
              "      aum_hematocrito                 conducta   latitud   longitud  \n",
              "0                   2           1. Ambulatorio  7.076011 -73.102501  \n",
              "1                   2           1. Ambulatorio  7.079495 -73.105400  \n",
              "2                   2           1. Ambulatorio  7.090290 -73.091003  \n",
              "3                   2           1. Ambulatorio  7.067435 -73.090958  \n",
              "4                   2  2. Hospitalizacion piso  7.066905 -73.104980  \n",
              "...               ...                      ...       ...        ...  \n",
              "1257                2           1. Ambulatorio  7.072610 -73.099487  \n",
              "1258                1  2. Hospitalizacion piso  7.065252 -73.103607  \n",
              "1259                2           1. Ambulatorio  7.091391 -73.103264  \n",
              "1260                2           1. Ambulatorio  7.061083 -73.097000  \n",
              "1261                2  2. Hospitalizacion piso  7.062521 -73.080444  \n",
              "\n",
              "[1262 rows x 51 columns]"
            ],
            "text/html": [
              "\n",
              "  <div id=\"df-d439c569-9c2a-443f-bbcf-5c625096c1c0\">\n",
              "    <div class=\"colab-df-container\">\n",
              "      <div>\n",
              "<style scoped>\n",
              "    .dataframe tbody tr th:only-of-type {\n",
              "        vertical-align: middle;\n",
              "    }\n",
              "\n",
              "    .dataframe tbody tr th {\n",
              "        vertical-align: top;\n",
              "    }\n",
              "\n",
              "    .dataframe thead th {\n",
              "        text-align: right;\n",
              "    }\n",
              "</style>\n",
              "<table border=\"1\" class=\"dataframe\">\n",
              "  <thead>\n",
              "    <tr style=\"text-align: right;\">\n",
              "      <th></th>\n",
              "      <th>ID</th>\n",
              "      <th>fec_not</th>\n",
              "      <th>semana</th>\n",
              "      <th>año</th>\n",
              "      <th>edad_</th>\n",
              "      <th>uni_med_</th>\n",
              "      <th>sexo_</th>\n",
              "      <th>cod_pais_o</th>\n",
              "      <th>cod_dpto_o</th>\n",
              "      <th>cod_mun_o</th>\n",
              "      <th>...</th>\n",
              "      <th>hipotension</th>\n",
              "      <th>hepatomegalia</th>\n",
              "      <th>hemorragia_mucosa</th>\n",
              "      <th>hipotermia</th>\n",
              "      <th>caida_plaquetas</th>\n",
              "      <th>acum_liquido</th>\n",
              "      <th>aum_hematocrito</th>\n",
              "      <th>conducta</th>\n",
              "      <th>latitud</th>\n",
              "      <th>longitud</th>\n",
              "    </tr>\n",
              "  </thead>\n",
              "  <tbody>\n",
              "    <tr>\n",
              "      <th>0</th>\n",
              "      <td>1</td>\n",
              "      <td>17/01/2020</td>\n",
              "      <td>1</td>\n",
              "      <td>2020</td>\n",
              "      <td>25</td>\n",
              "      <td>1</td>\n",
              "      <td>F</td>\n",
              "      <td>170</td>\n",
              "      <td>68</td>\n",
              "      <td>276</td>\n",
              "      <td>...</td>\n",
              "      <td>2</td>\n",
              "      <td>2</td>\n",
              "      <td>2</td>\n",
              "      <td>2</td>\n",
              "      <td>2</td>\n",
              "      <td>2</td>\n",
              "      <td>2</td>\n",
              "      <td>1. Ambulatorio</td>\n",
              "      <td>7.076011</td>\n",
              "      <td>-73.102501</td>\n",
              "    </tr>\n",
              "    <tr>\n",
              "      <th>1</th>\n",
              "      <td>2</td>\n",
              "      <td>10/01/2020</td>\n",
              "      <td>1</td>\n",
              "      <td>2020</td>\n",
              "      <td>24</td>\n",
              "      <td>1</td>\n",
              "      <td>M</td>\n",
              "      <td>170</td>\n",
              "      <td>68</td>\n",
              "      <td>276</td>\n",
              "      <td>...</td>\n",
              "      <td>2</td>\n",
              "      <td>2</td>\n",
              "      <td>2</td>\n",
              "      <td>2</td>\n",
              "      <td>2</td>\n",
              "      <td>2</td>\n",
              "      <td>2</td>\n",
              "      <td>1. Ambulatorio</td>\n",
              "      <td>7.079495</td>\n",
              "      <td>-73.105400</td>\n",
              "    </tr>\n",
              "    <tr>\n",
              "      <th>2</th>\n",
              "      <td>3</td>\n",
              "      <td>12/01/2020</td>\n",
              "      <td>1</td>\n",
              "      <td>2020</td>\n",
              "      <td>58</td>\n",
              "      <td>1</td>\n",
              "      <td>M</td>\n",
              "      <td>170</td>\n",
              "      <td>68</td>\n",
              "      <td>276</td>\n",
              "      <td>...</td>\n",
              "      <td>2</td>\n",
              "      <td>2</td>\n",
              "      <td>2</td>\n",
              "      <td>2</td>\n",
              "      <td>2</td>\n",
              "      <td>2</td>\n",
              "      <td>2</td>\n",
              "      <td>1. Ambulatorio</td>\n",
              "      <td>7.090290</td>\n",
              "      <td>-73.091003</td>\n",
              "    </tr>\n",
              "    <tr>\n",
              "      <th>3</th>\n",
              "      <td>4</td>\n",
              "      <td>12/01/2020</td>\n",
              "      <td>1</td>\n",
              "      <td>2020</td>\n",
              "      <td>29</td>\n",
              "      <td>1</td>\n",
              "      <td>F</td>\n",
              "      <td>170</td>\n",
              "      <td>68</td>\n",
              "      <td>276</td>\n",
              "      <td>...</td>\n",
              "      <td>2</td>\n",
              "      <td>2</td>\n",
              "      <td>2</td>\n",
              "      <td>2</td>\n",
              "      <td>2</td>\n",
              "      <td>2</td>\n",
              "      <td>2</td>\n",
              "      <td>1. Ambulatorio</td>\n",
              "      <td>7.067435</td>\n",
              "      <td>-73.090958</td>\n",
              "    </tr>\n",
              "    <tr>\n",
              "      <th>4</th>\n",
              "      <td>5</td>\n",
              "      <td>10/01/2020</td>\n",
              "      <td>1</td>\n",
              "      <td>2020</td>\n",
              "      <td>56</td>\n",
              "      <td>1</td>\n",
              "      <td>F</td>\n",
              "      <td>170</td>\n",
              "      <td>68</td>\n",
              "      <td>276</td>\n",
              "      <td>...</td>\n",
              "      <td>2</td>\n",
              "      <td>2</td>\n",
              "      <td>2</td>\n",
              "      <td>2</td>\n",
              "      <td>1</td>\n",
              "      <td>2</td>\n",
              "      <td>2</td>\n",
              "      <td>2. Hospitalizacion piso</td>\n",
              "      <td>7.066905</td>\n",
              "      <td>-73.104980</td>\n",
              "    </tr>\n",
              "    <tr>\n",
              "      <th>...</th>\n",
              "      <td>...</td>\n",
              "      <td>...</td>\n",
              "      <td>...</td>\n",
              "      <td>...</td>\n",
              "      <td>...</td>\n",
              "      <td>...</td>\n",
              "      <td>...</td>\n",
              "      <td>...</td>\n",
              "      <td>...</td>\n",
              "      <td>...</td>\n",
              "      <td>...</td>\n",
              "      <td>...</td>\n",
              "      <td>...</td>\n",
              "      <td>...</td>\n",
              "      <td>...</td>\n",
              "      <td>...</td>\n",
              "      <td>...</td>\n",
              "      <td>...</td>\n",
              "      <td>...</td>\n",
              "      <td>...</td>\n",
              "      <td>...</td>\n",
              "    </tr>\n",
              "    <tr>\n",
              "      <th>1257</th>\n",
              "      <td>1258</td>\n",
              "      <td>7/03/2020</td>\n",
              "      <td>9</td>\n",
              "      <td>2020</td>\n",
              "      <td>36</td>\n",
              "      <td>1</td>\n",
              "      <td>F</td>\n",
              "      <td>170</td>\n",
              "      <td>68</td>\n",
              "      <td>276</td>\n",
              "      <td>...</td>\n",
              "      <td>2</td>\n",
              "      <td>2</td>\n",
              "      <td>1</td>\n",
              "      <td>2</td>\n",
              "      <td>2</td>\n",
              "      <td>2</td>\n",
              "      <td>2</td>\n",
              "      <td>1. Ambulatorio</td>\n",
              "      <td>7.072610</td>\n",
              "      <td>-73.099487</td>\n",
              "    </tr>\n",
              "    <tr>\n",
              "      <th>1258</th>\n",
              "      <td>1259</td>\n",
              "      <td>13/03/2020</td>\n",
              "      <td>9</td>\n",
              "      <td>2020</td>\n",
              "      <td>42</td>\n",
              "      <td>1</td>\n",
              "      <td>M</td>\n",
              "      <td>170</td>\n",
              "      <td>68</td>\n",
              "      <td>276</td>\n",
              "      <td>...</td>\n",
              "      <td>2</td>\n",
              "      <td>2</td>\n",
              "      <td>2</td>\n",
              "      <td>2</td>\n",
              "      <td>1</td>\n",
              "      <td>2</td>\n",
              "      <td>1</td>\n",
              "      <td>2. Hospitalizacion piso</td>\n",
              "      <td>7.065252</td>\n",
              "      <td>-73.103607</td>\n",
              "    </tr>\n",
              "    <tr>\n",
              "      <th>1259</th>\n",
              "      <td>1260</td>\n",
              "      <td>8/03/2020</td>\n",
              "      <td>9</td>\n",
              "      <td>2020</td>\n",
              "      <td>2</td>\n",
              "      <td>1</td>\n",
              "      <td>M</td>\n",
              "      <td>170</td>\n",
              "      <td>68</td>\n",
              "      <td>276</td>\n",
              "      <td>...</td>\n",
              "      <td>2</td>\n",
              "      <td>2</td>\n",
              "      <td>2</td>\n",
              "      <td>2</td>\n",
              "      <td>2</td>\n",
              "      <td>2</td>\n",
              "      <td>2</td>\n",
              "      <td>1. Ambulatorio</td>\n",
              "      <td>7.091391</td>\n",
              "      <td>-73.103264</td>\n",
              "    </tr>\n",
              "    <tr>\n",
              "      <th>1260</th>\n",
              "      <td>1261</td>\n",
              "      <td>11/03/2020</td>\n",
              "      <td>9</td>\n",
              "      <td>2020</td>\n",
              "      <td>12</td>\n",
              "      <td>1</td>\n",
              "      <td>F</td>\n",
              "      <td>170</td>\n",
              "      <td>68</td>\n",
              "      <td>276</td>\n",
              "      <td>...</td>\n",
              "      <td>2</td>\n",
              "      <td>2</td>\n",
              "      <td>2</td>\n",
              "      <td>2</td>\n",
              "      <td>2</td>\n",
              "      <td>2</td>\n",
              "      <td>2</td>\n",
              "      <td>1. Ambulatorio</td>\n",
              "      <td>7.061083</td>\n",
              "      <td>-73.097000</td>\n",
              "    </tr>\n",
              "    <tr>\n",
              "      <th>1261</th>\n",
              "      <td>1262</td>\n",
              "      <td>9/03/2020</td>\n",
              "      <td>9</td>\n",
              "      <td>2020</td>\n",
              "      <td>14</td>\n",
              "      <td>1</td>\n",
              "      <td>M</td>\n",
              "      <td>170</td>\n",
              "      <td>68</td>\n",
              "      <td>276</td>\n",
              "      <td>...</td>\n",
              "      <td>2</td>\n",
              "      <td>2</td>\n",
              "      <td>2</td>\n",
              "      <td>2</td>\n",
              "      <td>2</td>\n",
              "      <td>2</td>\n",
              "      <td>2</td>\n",
              "      <td>2. Hospitalizacion piso</td>\n",
              "      <td>7.062521</td>\n",
              "      <td>-73.080444</td>\n",
              "    </tr>\n",
              "  </tbody>\n",
              "</table>\n",
              "<p>1262 rows × 51 columns</p>\n",
              "</div>\n",
              "      <button class=\"colab-df-convert\" onclick=\"convertToInteractive('df-d439c569-9c2a-443f-bbcf-5c625096c1c0')\"\n",
              "              title=\"Convert this dataframe to an interactive table.\"\n",
              "              style=\"display:none;\">\n",
              "        \n",
              "  <svg xmlns=\"http://www.w3.org/2000/svg\" height=\"24px\"viewBox=\"0 0 24 24\"\n",
              "       width=\"24px\">\n",
              "    <path d=\"M0 0h24v24H0V0z\" fill=\"none\"/>\n",
              "    <path d=\"M18.56 5.44l.94 2.06.94-2.06 2.06-.94-2.06-.94-.94-2.06-.94 2.06-2.06.94zm-11 1L8.5 8.5l.94-2.06 2.06-.94-2.06-.94L8.5 2.5l-.94 2.06-2.06.94zm10 10l.94 2.06.94-2.06 2.06-.94-2.06-.94-.94-2.06-.94 2.06-2.06.94z\"/><path d=\"M17.41 7.96l-1.37-1.37c-.4-.4-.92-.59-1.43-.59-.52 0-1.04.2-1.43.59L10.3 9.45l-7.72 7.72c-.78.78-.78 2.05 0 2.83L4 21.41c.39.39.9.59 1.41.59.51 0 1.02-.2 1.41-.59l7.78-7.78 2.81-2.81c.8-.78.8-2.07 0-2.86zM5.41 20L4 18.59l7.72-7.72 1.47 1.35L5.41 20z\"/>\n",
              "  </svg>\n",
              "      </button>\n",
              "      \n",
              "  <style>\n",
              "    .colab-df-container {\n",
              "      display:flex;\n",
              "      flex-wrap:wrap;\n",
              "      gap: 12px;\n",
              "    }\n",
              "\n",
              "    .colab-df-convert {\n",
              "      background-color: #E8F0FE;\n",
              "      border: none;\n",
              "      border-radius: 50%;\n",
              "      cursor: pointer;\n",
              "      display: none;\n",
              "      fill: #1967D2;\n",
              "      height: 32px;\n",
              "      padding: 0 0 0 0;\n",
              "      width: 32px;\n",
              "    }\n",
              "\n",
              "    .colab-df-convert:hover {\n",
              "      background-color: #E2EBFA;\n",
              "      box-shadow: 0px 1px 2px rgba(60, 64, 67, 0.3), 0px 1px 3px 1px rgba(60, 64, 67, 0.15);\n",
              "      fill: #174EA6;\n",
              "    }\n",
              "\n",
              "    [theme=dark] .colab-df-convert {\n",
              "      background-color: #3B4455;\n",
              "      fill: #D2E3FC;\n",
              "    }\n",
              "\n",
              "    [theme=dark] .colab-df-convert:hover {\n",
              "      background-color: #434B5C;\n",
              "      box-shadow: 0px 1px 3px 1px rgba(0, 0, 0, 0.15);\n",
              "      filter: drop-shadow(0px 1px 2px rgba(0, 0, 0, 0.3));\n",
              "      fill: #FFFFFF;\n",
              "    }\n",
              "  </style>\n",
              "\n",
              "      <script>\n",
              "        const buttonEl =\n",
              "          document.querySelector('#df-d439c569-9c2a-443f-bbcf-5c625096c1c0 button.colab-df-convert');\n",
              "        buttonEl.style.display =\n",
              "          google.colab.kernel.accessAllowed ? 'block' : 'none';\n",
              "\n",
              "        async function convertToInteractive(key) {\n",
              "          const element = document.querySelector('#df-d439c569-9c2a-443f-bbcf-5c625096c1c0');\n",
              "          const dataTable =\n",
              "            await google.colab.kernel.invokeFunction('convertToInteractive',\n",
              "                                                     [key], {});\n",
              "          if (!dataTable) return;\n",
              "\n",
              "          const docLinkHtml = 'Like what you see? Visit the ' +\n",
              "            '<a target=\"_blank\" href=https://colab.research.google.com/notebooks/data_table.ipynb>data table notebook</a>'\n",
              "            + ' to learn more about interactive tables.';\n",
              "          element.innerHTML = '';\n",
              "          dataTable['output_type'] = 'display_data';\n",
              "          await google.colab.output.renderOutput(dataTable, element);\n",
              "          const docLink = document.createElement('div');\n",
              "          docLink.innerHTML = docLinkHtml;\n",
              "          element.appendChild(docLink);\n",
              "        }\n",
              "      </script>\n",
              "    </div>\n",
              "  </div>\n",
              "  "
            ]
          },
          "metadata": {},
          "execution_count": 18
        }
      ]
    },
    {
      "cell_type": "code",
      "source": [
        "df['fecha_defuncion'].unique()"
      ],
      "metadata": {
        "colab": {
          "base_uri": "https://localhost:8080/"
        },
        "id": "bexLwhcTC26Z",
        "outputId": "5b8a41c5-864d-45bb-ad16-6852031baffe"
      },
      "execution_count": null,
      "outputs": [
        {
          "output_type": "execute_result",
          "data": {
            "text/plain": [
              "array([nan])"
            ]
          },
          "metadata": {},
          "execution_count": 25
        }
      ]
    },
    {
      "cell_type": "code",
      "source": [
        "list(df.columns)"
      ],
      "metadata": {
        "colab": {
          "base_uri": "https://localhost:8080/"
        },
        "id": "Gs8RF9zwAcwk",
        "outputId": "546573d7-9148-4944-e594-d4f03b382df9"
      },
      "execution_count": null,
      "outputs": [
        {
          "output_type": "execute_result",
          "data": {
            "text/plain": [
              "['ID',\n",
              " 'fec_not',\n",
              " 'semana',\n",
              " 'año',\n",
              " 'edad_',\n",
              " 'uni_med_',\n",
              " 'sexo_',\n",
              " 'cod_pais_o',\n",
              " 'cod_dpto_o',\n",
              " 'cod_mun_o',\n",
              " 'area_',\n",
              " 'ocupacion_',\n",
              " 'tip_ss_',\n",
              " 'cod_ase_',\n",
              " 'gp_discapa',\n",
              " 'gp_desplaz',\n",
              " 'gp_migrant',\n",
              " 'gp_carcela',\n",
              " 'gp_gestan',\n",
              " 'gp_calle',\n",
              " 'gp_psiquia',\n",
              " 'gp_vic_vio',\n",
              " 'fecha_contagio',\n",
              " 'inicio_sintomas',\n",
              " 'pac_hos_',\n",
              " 'fec_hos_',\n",
              " 'condicion_final',\n",
              " 'fecha_defuncion',\n",
              " 'fecha_nacimiento',\n",
              " 'certif_defuncion',\n",
              " 'familiar_sintomas',\n",
              " 'fiebre',\n",
              " 'cefalea',\n",
              " 'dolor_retroocular',\n",
              " 'mialgias',\n",
              " 'artralgia',\n",
              " 'erupcion',\n",
              " 'dolor_abdomen',\n",
              " 'vomito',\n",
              " 'diarrea',\n",
              " 'somnolencia',\n",
              " 'hipotension',\n",
              " 'hepatomegalia',\n",
              " 'hemorragia_mucosa',\n",
              " 'hipotermia',\n",
              " 'caida_plaquetas',\n",
              " 'acum_liquido',\n",
              " 'aum_hematocrito',\n",
              " 'conducta',\n",
              " 'latitud',\n",
              " 'longitud']"
            ]
          },
          "metadata": {},
          "execution_count": 7
        }
      ]
    },
    {
      "cell_type": "code",
      "source": [
        "df.isnull().sum()"
      ],
      "metadata": {
        "colab": {
          "base_uri": "https://localhost:8080/"
        },
        "id": "icvg6mU6Al1E",
        "outputId": "fb7df377-9714-4d25-b986-0cf98a36560b"
      },
      "execution_count": null,
      "outputs": [
        {
          "output_type": "execute_result",
          "data": {
            "text/plain": [
              "ID                      0\n",
              "fec_not                 0\n",
              "semana                  0\n",
              "año                     0\n",
              "edad_                   0\n",
              "uni_med_                0\n",
              "sexo_                   0\n",
              "cod_pais_o              0\n",
              "cod_dpto_o              0\n",
              "cod_mun_o               0\n",
              "area_                   0\n",
              "ocupacion_              0\n",
              "tip_ss_                 0\n",
              "cod_ase_                9\n",
              "gp_discapa              0\n",
              "gp_desplaz              0\n",
              "gp_migrant              0\n",
              "gp_carcela              0\n",
              "gp_gestan               0\n",
              "gp_calle                0\n",
              "gp_psiquia              0\n",
              "gp_vic_vio              0\n",
              "fecha_contagio          2\n",
              "inicio_sintomas         2\n",
              "pac_hos_                0\n",
              "fec_hos_             1014\n",
              "condicion_final         0\n",
              "fecha_defuncion      1262\n",
              "fecha_nacimiento        0\n",
              "certif_defuncion     1262\n",
              "familiar_sintomas       0\n",
              "fiebre                  0\n",
              "cefalea                 0\n",
              "dolor_retroocular       0\n",
              "mialgias                0\n",
              "artralgia               0\n",
              "erupcion                0\n",
              "dolor_abdomen           0\n",
              "vomito                  0\n",
              "diarrea                 0\n",
              "somnolencia             0\n",
              "hipotension             0\n",
              "hepatomegalia           0\n",
              "hemorragia_mucosa       0\n",
              "hipotermia              0\n",
              "caida_plaquetas         0\n",
              "acum_liquido            0\n",
              "aum_hematocrito         0\n",
              "conducta                0\n",
              "latitud                 0\n",
              "longitud                0\n",
              "dtype: int64"
            ]
          },
          "metadata": {},
          "execution_count": 9
        }
      ]
    },
    {
      "cell_type": "code",
      "source": [
        "listaPuntos = []\n",
        "for i in range(df.shape[0]):\n",
        "  listaPuntos.append((df['latitud'][i], df['longitud'][i]))"
      ],
      "metadata": {
        "id": "OiA_kXXhEfjy"
      },
      "execution_count": null,
      "outputs": []
    },
    {
      "cell_type": "code",
      "source": [
        "scaler = StandardScaler()\n",
        "scaled_features = scaler.fit_transform(listaPuntos)\n",
        "scaled_features[:12]"
      ],
      "metadata": {
        "colab": {
          "base_uri": "https://localhost:8080/"
        },
        "id": "LRr1U2b4_xLk",
        "outputId": "a50e486c-30a5-41af-bfae-d9b077e85b6c"
      },
      "execution_count": null,
      "outputs": [
        {
          "output_type": "execute_result",
          "data": {
            "text/plain": [
              "array([[-0.15098307, -0.9022805 ],\n",
              "       [ 0.17099084, -1.26525261],\n",
              "       [ 1.16850635,  0.53719075],\n",
              "       [-0.9435139 ,  0.54292234],\n",
              "       [-0.99246873, -1.21271676],\n",
              "       [-0.39522847,  0.81037541],\n",
              "       [ 0.30516498,  0.76452642],\n",
              "       [ 0.59528081,  1.16952646],\n",
              "       [ 0.52561596, -0.87648958],\n",
              "       [-0.94382236, -0.32916624],\n",
              "       [ 1.25940988, -0.6825857 ],\n",
              "       [-1.40843068,  0.64608226]])"
            ]
          },
          "metadata": {},
          "execution_count": 28
        }
      ]
    },
    {
      "cell_type": "code",
      "source": [
        "kmeans_kwargs = {\n",
        "    'init': 'random',\n",
        "    'n_init': 10,\n",
        "    'max_iter': 300,\n",
        "    'random_state': 42,\n",
        "}\n",
        "\n",
        "sse = []\n",
        "for k in range(1,11):\n",
        "  kmeans = KMeans(n_clusters = k, **kmeans_kwargs)\n",
        "  kmeans.fit(scaled_features)\n",
        "  sse.append(kmeans.inertia_)"
      ],
      "metadata": {
        "id": "HRyO2kTCE8SB"
      },
      "execution_count": null,
      "outputs": []
    },
    {
      "cell_type": "code",
      "source": [
        "plt.style.use('fivethirtyeight')\n",
        "plt.plot(range(1, 11), sse)\n",
        "plt.xticks(range(1, 11))\n",
        "plt.xlabel('Number of Clusters')\n",
        "plt.ylabel('SSE')\n",
        "plt.show()"
      ],
      "metadata": {
        "colab": {
          "base_uri": "https://localhost:8080/",
          "height": 304
        },
        "id": "PvBTFIzrE9uB",
        "outputId": "78ed84c8-17fb-4ced-b67a-10f464d43980"
      },
      "execution_count": null,
      "outputs": [
        {
          "output_type": "display_data",
          "data": {
            "text/plain": [
              "<Figure size 432x288 with 1 Axes>"
            ],
            "image/png": "[encoded data removed]"
          },
          "metadata": {}
        }
      ]
    },
    {
      "cell_type": "code",
      "source": [
        "silhouette_coefficients = []\n",
        "\n",
        "#Aquí se inicia con 2 cluester\n",
        "for k in range(2, 11):\n",
        "  kmeans = KMeans(n_clusters=k, **kmeans_kwargs)\n",
        "  kmeans.fit(scaled_features)\n",
        "  score = silhouette_score(scaled_features, kmeans.labels_)\n",
        "  silhouette_coefficients.append(score)"
      ],
      "metadata": {
        "id": "pJeQRUt-FgIS"
      },
      "execution_count": null,
      "outputs": []
    },
    {
      "cell_type": "code",
      "source": [
        "plt.style.use(\"fivethirtyeight\")\n",
        "plt.plot(range(2, 11), silhouette_coefficients)\n",
        "plt.xticks(range(2, 11))\n",
        "plt.xlabel(\"Number of Clusters\")\n",
        "plt.ylabel(\"Silhouette Coefficient\")\n",
        "plt.show()"
      ],
      "metadata": {
        "colab": {
          "base_uri": "https://localhost:8080/",
          "height": 304
        },
        "id": "p1LiIVAnFhUB",
        "outputId": "5ca9ad7a-901e-4a59-987b-54d3118e29e8"
      },
      "execution_count": null,
      "outputs": [
        {
          "output_type": "display_data",
          "data": {
            "text/plain": [
              "<Figure size 432x288 with 1 Axes>"
            ],
            "image/png": "[encoded data removed]"
          },
          "metadata": {}
        }
      ]
    },
    {
      "cell_type": "code",
      "source": [
        "kmeans = KMeans(\n",
        "    init = 'random',\n",
        "    n_clusters = 6,\n",
        "    n_init = 10,\n",
        "    max_iter = 300,\n",
        "    random_state = 42\n",
        "    )"
      ],
      "metadata": {
        "id": "KIlMGZR9FDB5"
      },
      "execution_count": null,
      "outputs": []
    },
    {
      "cell_type": "code",
      "source": [
        "kmeans.fit(scaled_features)"
      ],
      "metadata": {
        "colab": {
          "base_uri": "https://localhost:8080/",
          "height": 75
        },
        "id": "u6k8edw2FGdR",
        "outputId": "32c2fcf8-73b0-4c3b-ea19-365b0c7c800c"
      },
      "execution_count": null,
      "outputs": [
        {
          "output_type": "execute_result",
          "data": {
            "text/plain": [
              "KMeans(init='random', n_clusters=6, n_init=10, random_state=42)"
            ],
            "text/html": [
              "<style>#sk-container-id-2 {color: black;background-color: white;}#sk-container-id-2 pre{padding: 0;}#sk-container-id-2 div.sk-toggleable {background-color: white;}#sk-container-id-2 label.sk-toggleable__label {cursor: pointer;display: block;width: 100%;margin-bottom: 0;padding: 0.3em;box-sizing: border-box;text-align: center;}#sk-container-id-2 label.sk-toggleable__label-arrow:before {content: \"▸\";float: left;margin-right: 0.25em;color: #696969;}#sk-container-id-2 label.sk-toggleable__label-arrow:hover:before {color: black;}#sk-container-id-2 div.sk-estimator:hover label.sk-toggleable__label-arrow:before {color: black;}#sk-container-id-2 div.sk-toggleable__content {max-height: 0;max-width: 0;overflow: hidden;text-align: left;background-color: #f0f8ff;}#sk-container-id-2 div.sk-toggleable__content pre {margin: 0.2em;color: black;border-radius: 0.25em;background-color: #f0f8ff;}#sk-container-id-2 input.sk-toggleable__control:checked~div.sk-toggleable__content {max-height: 200px;max-width: 100%;overflow: auto;}#sk-container-id-2 input.sk-toggleable__control:checked~label.sk-toggleable__label-arrow:before {content: \"▾\";}#sk-container-id-2 div.sk-estimator input.sk-toggleable__control:checked~label.sk-toggleable__label {background-color: #d4ebff;}#sk-container-id-2 div.sk-label input.sk-toggleable__control:checked~label.sk-toggleable__label {background-color: #d4ebff;}#sk-container-id-2 input.sk-hidden--visually {border: 0;clip: rect(1px 1px 1px 1px);clip: rect(1px, 1px, 1px, 1px);height: 1px;margin: -1px;overflow: hidden;padding: 0;position: absolute;width: 1px;}#sk-container-id-2 div.sk-estimator {font-family: monospace;background-color: #f0f8ff;border: 1px dotted black;border-radius: 0.25em;box-sizing: border-box;margin-bottom: 0.5em;}#sk-container-id-2 div.sk-estimator:hover {background-color: #d4ebff;}#sk-container-id-2 div.sk-parallel-item::after {content: \"\";width: 100%;border-bottom: 1px solid gray;flex-grow: 1;}#sk-container-id-2 div.sk-label:hover label.sk-toggleable__label {background-color: #d4ebff;}#sk-container-id-2 div.sk-serial::before {content: \"\";position: absolute;border-left: 1px solid gray;box-sizing: border-box;top: 0;bottom: 0;left: 50%;z-index: 0;}#sk-container-id-2 div.sk-serial {display: flex;flex-direction: column;align-items: center;background-color: white;padding-right: 0.2em;padding-left: 0.2em;position: relative;}#sk-container-id-2 div.sk-item {position: relative;z-index: 1;}#sk-container-id-2 div.sk-parallel {display: flex;align-items: stretch;justify-content: center;background-color: white;position: relative;}#sk-container-id-2 div.sk-item::before, #sk-container-id-2 div.sk-parallel-item::before {content: \"\";position: absolute;border-left: 1px solid gray;box-sizing: border-box;top: 0;bottom: 0;left: 50%;z-index: -1;}#sk-container-id-2 div.sk-parallel-item {display: flex;flex-direction: column;z-index: 1;position: relative;background-color: white;}#sk-container-id-2 div.sk-parallel-item:first-child::after {align-self: flex-end;width: 50%;}#sk-container-id-2 div.sk-parallel-item:last-child::after {align-self: flex-start;width: 50%;}#sk-container-id-2 div.sk-parallel-item:only-child::after {width: 0;}#sk-container-id-2 div.sk-dashed-wrapped {border: 1px dashed gray;margin: 0 0.4em 0.5em 0.4em;box-sizing: border-box;padding-bottom: 0.4em;background-color: white;}#sk-container-id-2 div.sk-label label {font-family: monospace;font-weight: bold;display: inline-block;line-height: 1.2em;}#sk-container-id-2 div.sk-label-container {text-align: center;}#sk-container-id-2 div.sk-container {/* jupyter's `normalize.less` sets `[hidden] { display: none; }` but bootstrap.min.css set `[hidden] { display: none !important; }` so we also need the `!important` here to be able to override the default hidden behavior on the sphinx rendered scikit-learn.org. See: https://github.com/scikit-learn/scikit-learn/issues/21755 */display: inline-block !important;position: relative;}#sk-container-id-2 div.sk-text-repr-fallback {display: none;}</style><div id=\"sk-container-id-2\" class=\"sk-top-container\"><div class=\"sk-text-repr-fallback\"><pre>KMeans(init=&#x27;random&#x27;, n_clusters=6, n_init=10, random_state=42)</pre><b>In a Jupyter environment, please rerun this cell to show the HTML representation or trust the notebook. <br />On GitHub, the HTML representation is unable to render, please try loading this page with nbviewer.org.</b></div><div class=\"sk-container\" hidden><div class=\"sk-item\"><div class=\"sk-estimator sk-toggleable\"><input class=\"sk-toggleable__control sk-hidden--visually\" id=\"sk-estimator-id-2\" type=\"checkbox\" checked><label for=\"sk-estimator-id-2\" class=\"sk-toggleable__label sk-toggleable__label-arrow\">KMeans</label><div class=\"sk-toggleable__content\"><pre>KMeans(init=&#x27;random&#x27;, n_clusters=6, n_init=10, random_state=42)</pre></div></div></div></div></div>"
            ]
          },
          "metadata": {},
          "execution_count": 40
        }
      ]
    },
    {
      "cell_type": "code",
      "source": [
        "kmeans.inertia_"
      ],
      "metadata": {
        "colab": {
          "base_uri": "https://localhost:8080/"
        },
        "id": "-Lng5fRAFHix",
        "outputId": "36bfe173-490c-4266-ebe1-ac6b1655e1e7"
      },
      "execution_count": null,
      "outputs": [
        {
          "output_type": "execute_result",
          "data": {
            "text/plain": [
              "377.7096763784671"
            ]
          },
          "metadata": {},
          "execution_count": 41
        }
      ]
    },
    {
      "cell_type": "code",
      "source": [
        "kmeans.cluster_centers_"
      ],
      "metadata": {
        "colab": {
          "base_uri": "https://localhost:8080/"
        },
        "id": "VdgBndetFIvS",
        "outputId": "e2022a22-0c00-4e4f-fcdf-ea976fa576ac"
      },
      "execution_count": null,
      "outputs": [
        {
          "output_type": "execute_result",
          "data": {
            "text/plain": [
              "array([[-1.02871867, -0.34707193],\n",
              "       [-0.6735797 , -1.79176809],\n",
              "       [ 0.48825514, -0.83597128],\n",
              "       [ 1.23509744,  0.34335006],\n",
              "       [-1.25710062,  1.35508446],\n",
              "       [ 0.10623993,  0.87919347]])"
            ]
          },
          "metadata": {},
          "execution_count": 42
        }
      ]
    },
    {
      "cell_type": "code",
      "source": [
        "kmeans.n_iter_"
      ],
      "metadata": {
        "colab": {
          "base_uri": "https://localhost:8080/"
        },
        "id": "aF8vVduaFJ35",
        "outputId": "65803ba3-424b-46b2-b5a2-0be894237653"
      },
      "execution_count": null,
      "outputs": [
        {
          "output_type": "execute_result",
          "data": {
            "text/plain": [
              "13"
            ]
          },
          "metadata": {},
          "execution_count": 43
        }
      ]
    },
    {
      "cell_type": "code",
      "source": [
        "kmeans.labels_"
      ],
      "metadata": {
        "colab": {
          "base_uri": "https://localhost:8080/"
        },
        "id": "yoAJMyNUFLdZ",
        "outputId": "583f6eb3-9f59-414c-e372-fb2918d91bb1"
      },
      "execution_count": null,
      "outputs": [
        {
          "output_type": "execute_result",
          "data": {
            "text/plain": [
              "array([2, 2, 3, ..., 2, 0, 4], dtype=int32)"
            ]
          },
          "metadata": {},
          "execution_count": 44
        }
      ]
    }
  ]
}
